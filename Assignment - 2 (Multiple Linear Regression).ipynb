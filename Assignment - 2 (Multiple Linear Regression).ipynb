{
 "cells": [
  {
   "cell_type": "markdown",
   "metadata": {
    "id": "j1N81UragguL"
   },
   "source": [
    "\n",
    "###Assignment 2: Predicting Car Fuel Efficiency\n",
    "\n",
    "####**Problem Statement**\n",
    "Car manufacturers and buyers are interested in understanding how various car features affect fuel efficiency. This model will predict a car's fuel efficiency (miles_per_gallon) based on horsepower, engine_size, and weight.\n",
    "\n",
    "####**How the Model Will Help**\n",
    "The model can help car manufacturers optimize designs for better fuel efficiency, and car buyers can better evaluate vehicles based on their performance characteristics.\n",
    "\n",
    "####**Data Description**\n",
    "The dataset contains four columns:\n",
    "- horsepower: Engine power output in horsepower.\n",
    "- engine_size: Engine displacement in liters.\n",
    "- weight: Car weight in pounds.\n",
    "- miles_per_gallon: Fuel efficiency in miles per gallon.\n",
    "\n",
    "#### **Instructions**\n",
    "- Model Training: Split the data into training (80%) and testing (20%) sets, and train a multiple linear regression model using horsepower, engine_size, and weight as predictors for miles_per_gallon.\n",
    "\n",
    "**Question: Do you think if scaling is necessary for horsepower, engine_size, and weight?**\n"
   ]
  },
  {
   "cell_type": "code",
   "execution_count": null,
   "metadata": {
    "id": "-GahakqqgtBD"
   },
   "outputs": [],
   "source": []
  }
 ],
 "metadata": {
  "colab": {
   "authorship_tag": "ABX9TyPsxLzelpixIYC4f69hOSQg",
   "provenance": [
    {
     "file_id": "1bJszycF0PEuIdo6dlazemfvzD8BXQHXw",
     "timestamp": 1730259979199
    },
    {
     "file_id": "1V1C6DBQwVyvXBFvojHWYpeIotzqBV00m",
     "timestamp": 1730259819933
    }
   ]
  },
  "kernelspec": {
   "display_name": "Python 3 (ipykernel)",
   "language": "python",
   "name": "python3"
  },
  "language_info": {
   "codemirror_mode": {
    "name": "ipython",
    "version": 3
   },
   "file_extension": ".py",
   "mimetype": "text/x-python",
   "name": "python",
   "nbconvert_exporter": "python",
   "pygments_lexer": "ipython3",
   "version": "3.12.7"
  }
 },
 "nbformat": 4,
 "nbformat_minor": 4
}
